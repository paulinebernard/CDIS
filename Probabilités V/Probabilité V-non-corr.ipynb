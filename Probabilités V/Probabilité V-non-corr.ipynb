{
 "cells": [
  {
   "cell_type": "code",
   "execution_count": 1,
   "metadata": {},
   "outputs": [],
   "source": [
    "#Chargement de dépendances\n",
    "\n",
    "import numpy as np\n",
    "import matplotlib.pyplot as plt\n",
    "import scipy.stats as sps #bibliothèque proposant densités, fonctions  de répartition, quantiles, etc... de lois usuelles.\n"
   ]
  },
  {
   "cell_type": "markdown",
   "metadata": {},
   "source": [
    "Dans ce document, on commence par donner quelques exemples d'applications du cours. On se servira des trois librairies ci-dessus. On peut déjà commencer par initialiser le générateur de nombres aléatoires :"
   ]
  },
  {
   "cell_type": "code",
   "execution_count": 9,
   "metadata": {},
   "outputs": [
    {
     "name": "stdout",
     "output_type": "stream",
     "text": [
      "[0.92961609 0.31637555 0.18391881 0.20456028 0.56772503 0.5955447\n",
      " 0.96451452 0.6531771  0.74890664 0.65356987 0.74771481 0.96130674\n",
      " 0.0083883  0.10644438 0.29870371 0.65641118 0.80981255 0.87217591\n",
      " 0.9646476  0.72368535 0.64247533 0.71745362 0.46759901 0.32558468\n",
      " 0.43964461 0.72968908 0.99401459 0.67687371 0.79082252 0.17091426\n",
      " 0.02684928 0.80037024 0.90372254 0.02467621 0.49174732 0.52625517\n",
      " 0.59636601 0.05195755 0.89508953 0.72826618 0.81835001 0.50022275\n",
      " 0.81018941 0.09596853 0.21895004 0.25871906 0.46810575 0.4593732\n",
      " 0.70950978 0.17805301 0.53144988 0.16774223 0.76881392 0.92817055\n",
      " 0.60949366 0.15018349 0.4896267  0.37734495 0.84860141 0.91109723\n",
      " 0.38384872 0.3154959  0.56839415 0.18781804 0.12584154 0.68759581\n",
      " 0.79960672 0.57353657 0.97322998 0.63405438 0.88842172 0.49541476\n",
      " 0.35161653 0.71423037 0.50392912 0.22563761 0.24497444 0.7928007\n",
      " 0.49517241 0.91509367 0.94537183 0.53323223 0.25249259 0.72086206\n",
      " 0.36743876 0.49864844 0.22657505 0.35356565 0.65085179 0.3129329\n",
      " 0.76873545 0.7818371  0.85240948 0.94990574 0.10732291 0.91072536\n",
      " 0.33605516 0.82638043 0.89810064 0.0427153 ]\n"
     ]
    }
   ],
   "source": [
    "np.random.seed(12345)\n",
    "print(np.random.rand(100))"
   ]
  },
  {
   "cell_type": "markdown",
   "metadata": {},
   "source": [
    "# Préambule : Loi uniforme\n",
    "\n",
    "Génerons un échantillon de 50 nombres uniformes sur $]0,1[$, calculons sa moyenne, sa variance et représentons son histogramme et la densité cible :"
   ]
  },
  {
   "cell_type": "code",
   "execution_count": 10,
   "metadata": {},
   "outputs": [
    {
     "name": "stdout",
     "output_type": "stream",
     "text": [
      "0.48641930292346813\n",
      "0.0730516559698809\n"
     ]
    },
    {
     "data": {
      "image/png": "[encoded data removed]",
      "text/plain": [
       "<Figure size 432x288 with 1 Axes>"
      ]
     },
     "metadata": {
      "needs_background": "light"
     },
     "output_type": "display_data"
    }
   ],
   "source": [
    "u = np.random.rand(50)\n",
    "print(np.mean(u))\n",
    "print(np.var(u))\n",
    "x = np. linspace (0,1,100)\n",
    "f_x = sps.uniform.pdf(x) #Densite uniforme\n",
    "plt.plot(x,f_x ,\"r\",label =\" Theory \")\n",
    "plt.hist(u,bins = 50,density=True, label = \"Data\")\n",
    "plt.legend(loc=\"best\")\n",
    "plt.show()"
   ]
  },
  {
   "cell_type": "markdown",
   "metadata": {},
   "source": [
    "On augmente la taille de l'échantillon :"
   ]
  },
  {
   "cell_type": "code",
   "execution_count": 11,
   "metadata": {},
   "outputs": [
    {
     "name": "stdout",
     "output_type": "stream",
     "text": [
      "0.49942249130026134\n",
      "0.08105352033385237\n"
     ]
    },
    {
     "data": {
      "image/png": "[encoded data removed]",
      "text/plain": [
       "<Figure size 432x288 with 1 Axes>"
      ]
     },
     "metadata": {
      "needs_background": "light"
     },
     "output_type": "display_data"
    }
   ],
   "source": [
    "u = np.random.rand(500)\n",
    "print(np.mean(u))\n",
    "print(np.var(u))\n",
    "plt.plot(x,f_x ,\"r\",label =\" Theory \")\n",
    "plt.hist(u,bins = 50,density=True, label = \"Data\")\n",
    "plt.legend(loc=\"best\")\n",
    "plt.show()"
   ]
  },
  {
   "cell_type": "markdown",
   "metadata": {},
   "source": [
    "On voit que l'estimation des moments se fait plus précise à mesure que la taille de l'échantillon augmente. L'histogramme se rapproche également de la densité cible."
   ]
  },
  {
   "cell_type": "code",
   "execution_count": 12,
   "metadata": {},
   "outputs": [
    {
     "name": "stdout",
     "output_type": "stream",
     "text": [
      "0.49265276573925415\n",
      "0.08504812670886816\n"
     ]
    },
    {
     "data": {
      "image/png": "[encoded data removed]",
      "text/plain": [
       "<Figure size 432x288 with 1 Axes>"
      ]
     },
     "metadata": {
      "needs_background": "light"
     },
     "output_type": "display_data"
    }
   ],
   "source": [
    "u = np.random.rand(1000)\n",
    "print(np.mean(u))\n",
    "print(np.var(u))\n",
    "plt.plot(x,f_x ,\"r\",label =\" Theory \")\n",
    "plt.hist(u,bins = 50,density=True, label = \"Data\")\n",
    "plt.legend(loc=\"best\")\n",
    "plt.show()"
   ]
  },
  {
   "cell_type": "markdown",
   "metadata": {},
   "source": [
    "# Méthode d'inversion\n",
    "\n",
    "## Loi exponentielle\n",
    "\n",
    "On va transformer cet échantillon pour produire des réalisations de la loi exponentielle de paramètre $\\lambda$ par la méthode d'inversion. Soit $X$ une variable aléatoire de loi exponentielle de paramètre $\\lambda$. Sa fonction de répartition est donnée par :\n",
    "$$F_X(x) = 1 - \\exp(-\\lambda x),~~x\\in \\mathbb{R}_+$$\n",
    "Pour calculer son inverse, on résoud $u =  1 - \\exp(-\\lambda x)$. On trouve ainsi\n",
    "$$x = -\\frac{1}{\\lambda}\\log(1-u)$$\n",
    "que l'on peut simplifier en\n",
    "$$x = -\\frac{1}{\\lambda}\\log(u)$$\n",
    "puisque si $U\\sim \\mathcal{U}_{]0,1[}$, alors $1-U \\sim \\mathcal{U}_{]0,1[}$.\n",
    "\n",
    "Pour générer un échantillon de réalisations de la loi exponentielle de paramètre $\\lambda$, on applique donc cette transformation à un échantillon de réalisations de la loi uniforme sur $]0,1[$."
   ]
  },
  {
   "cell_type": "code",
   "execution_count": 13,
   "metadata": {},
   "outputs": [],
   "source": [
    "param = 1\n",
    "y = -1/param * np.log(np.random.rand(1000))"
   ]
  },
  {
   "cell_type": "markdown",
   "metadata": {},
   "source": [
    "De même, on peut réprésenter son histogramme et y superposer la densité exponentielle"
   ]
  },
  {
   "cell_type": "code",
   "execution_count": 14,
   "metadata": {},
   "outputs": [
    {
     "data": {
      "image/png": "[encoded data removed]",
      "text/plain": [
       "<Figure size 432x288 with 1 Axes>"
      ]
     },
     "metadata": {
      "needs_background": "light"
     },
     "output_type": "display_data"
    }
   ],
   "source": [
    "x = np. linspace (0,10,1000)\n",
    "f_x = sps.expon.pdf(x) #Densite exponentielle\n",
    "plt.plot(x,f_x ,\"r\",label =\" Theory \")\n",
    "plt.hist(y,bins = 100,density=True, label = \"Data\")\n",
    "plt.legend(loc=\"best\")\n",
    "plt.show()"
   ]
  },
  {
   "cell_type": "markdown",
   "metadata": {},
   "source": [
    "En pratique, on utilisera plutôt les fonctions internes de numpy pour simuler des réalisations selon les lois usuelles. Voir :\n",
    "\n",
    "https://docs.scipy.org/doc/numpy-1.13.0/reference/routines.random.html"
   ]
  },
  {
   "cell_type": "code",
   "execution_count": 15,
   "metadata": {},
   "outputs": [
    {
     "data": {
      "image/png": "[encoded data removed]",
      "text/plain": [
       "<Figure size 432x288 with 1 Axes>"
      ]
     },
     "metadata": {
      "needs_background": "light"
     },
     "output_type": "display_data"
    }
   ],
   "source": [
    "x = np. linspace (0,10,1000)\n",
    "f_x = sps.expon.pdf(x) #Densite exponentielle\n",
    "y = np.random.exponential(param,1000)\n",
    "plt.plot(x,f_x ,\"r\",label =\" Theory \")\n",
    "plt.hist(y,bins = 100,density=True, label = \"Data\")\n",
    "plt.legend(loc=\"best\")\n",
    "plt.show()"
   ]
  },
  {
   "cell_type": "markdown",
   "metadata": {},
   "source": [
    "## Loi uniforme dans un domaine \n",
    "### Domaine A"
   ]
  },
  {
   "cell_type": "code",
   "execution_count": 16,
   "metadata": {},
   "outputs": [
    {
     "data": {
      "image/png": "[encoded data removed]",
      "text/plain": [
       "<Figure size 432x288 with 1 Axes>"
      ]
     },
     "metadata": {
      "needs_background": "light"
     },
     "output_type": "display_data"
    }
   ],
   "source": [
    "n=100\n",
    "\n",
    "def rtri(n):\n",
    "    x= np.empty([n,2])\n",
    "    i=0\n",
    "    while i < n :\n",
    "\t    u1 = ####\n",
    "\t    u2 = ####\n",
    "\t    if (######) :\n",
    "\t\t    x[i,0] = u1\n",
    "\t\t    x[i,1] = u2\n",
    "\t\t    i=i+1\n",
    "\t\n",
    "    return x\t\n",
    "\n",
    "tri = rtri(n)\n",
    "\n",
    "plt.scatter(tri[:,0],tri[:,1],)\n",
    "plt.show()"
   ]
  },
  {
   "cell_type": "markdown",
   "metadata": {},
   "source": [
    "### Domaine B"
   ]
  },
  {
   "cell_type": "code",
   "execution_count": null,
   "metadata": {},
   "outputs": [],
   "source": [
    "n=100\n",
    "def rB(n):\n",
    "    x=np.empty([n,2])\n",
    "    i=0\n",
    "    while i < n :\n",
    "\t    u1 = ####\n",
    "\t    u2 = ####\n",
    "\t    if ##### :\n",
    "\t\t    x[i,0] = u1\n",
    "\t\t    x[i,1] = u2\n",
    "\t\t    i=i+1\n",
    "\t\n",
    "    return x\t\n",
    "\n",
    "B = rB(n)\n",
    "\n",
    "plt.scatter(B[:,0],B[:,1],)\n",
    "plt.show()"
   ]
  },
  {
   "cell_type": "markdown",
   "metadata": {},
   "source": [
    "### domaine C"
   ]
  },
  {
   "cell_type": "code",
   "execution_count": null,
   "metadata": {},
   "outputs": [],
   "source": [
    "n=100\n",
    "def rC(n):\n",
    "    x=np.empty([n,2])\n",
    "    i=0\n",
    "    while i < n :\n",
    "\t    u1 = ####\n",
    "\t    u2 = ####\n",
    "\t    if ##### :\n",
    "\t\t    x[i,0] = u1\n",
    "\t\t    x[i,1] = u2\n",
    "\t\t    i=i+1\n",
    "\t\n",
    "    return x\t\n",
    "\n",
    "C = rC(n)\n",
    "\n",
    "plt.scatter(C[:,0],C[:,1],)\n",
    "plt.show()"
   ]
  },
  {
   "cell_type": "markdown",
   "metadata": {},
   "source": [
    "## Simulation selon la loi géométrique\n",
    "### Question 2"
   ]
  },
  {
   "cell_type": "code",
   "execution_count": null,
   "metadata": {},
   "outputs": [],
   "source": [
    "n=1000\n",
    "p=0.6\n",
    "q=0.4\n",
    "def rgeom(n,p):\n",
    "    x=np.empty(n)\n",
    "    for i in range(n) :\n",
    "\t    ok= False\n",
    "\t    k=0\n",
    "\t    while not ok :\n",
    "\t\t    ok= ####\n",
    "\t\t    k= ####\n",
    "\t\n",
    "\t    x[i]=k\n",
    "\n",
    "    return x\n",
    "\n",
    "y = rgeom(n,p)\n",
    "\n",
    "# Empirical (experimental) mean\n",
    "np.mean(y)\n",
    "# Expectation (theoretical mean)\n",
    "1/p\n",
    "# or equivalently\n",
    "1/(1-q)\n",
    "\t\n",
    "# Empirical variance\n",
    "np.var(y)\n",
    "# Theoretical variance\n",
    "(1-p)/p**2\n",
    "# or equivalently\n",
    "q/(1-q)**2\n",
    "\n",
    "# histogram\n",
    "d = np.diff(np.unique(y)).min()\n",
    "left_of_first_bin = y.min() - float(d)/2\n",
    "right_of_last_bin = y.max() + float(d)/2\n",
    "plt.hist(y, np.arange(left_of_first_bin, right_of_last_bin + d, d),density = True)\n",
    "plt.show()\n"
   ]
  },
  {
   "cell_type": "markdown",
   "metadata": {},
   "source": [
    "### Question 4"
   ]
  },
  {
   "cell_type": "code",
   "execution_count": null,
   "metadata": {},
   "outputs": [],
   "source": [
    "n = 1000\n",
    "lambd = ##### \n",
    "y = ##### \n",
    "# Empirical (experimental) mean\n",
    "np.mean(y)\n",
    "# Expectation (theoretical mean)\n",
    "1/p\n",
    "# or equivalently\n",
    "1/(1-q)\n",
    "\t\n",
    "# Empirical variance\n",
    "np.var(y)\n",
    "# Theoretical variance\n",
    "(1-p)/p**2\n",
    "# or equivalently\n",
    "q/(1-q)**2\n",
    "\n",
    "# histogram\n",
    "d = np.diff(np.unique(y)).min()\n",
    "left_of_first_bin = y.min() - float(d)/2\n",
    "right_of_last_bin = y.max() + float(d)/2\n",
    "plt.hist(y, np.arange(left_of_first_bin, right_of_last_bin + d, d),density = True)\n",
    "plt.show()"
   ]
  },
  {
   "cell_type": "markdown",
   "metadata": {},
   "source": [
    "## Simulation de la loi gaussienne par la méthode du rejet\n",
    "### Question 4\n",
    "On rappelle qu'une variable de loi de Laplace peut s'obtenir à partir d'une variable uniforme sur ]0,1[ de la manière suivante : \n",
    "$X = \\text{sgn}(U - 1/2)\\ln(1-2|U-1/2|)$"
   ]
  },
  {
   "cell_type": "code",
   "execution_count": null,
   "metadata": {},
   "outputs": [],
   "source": [
    "# function simulating n symmetric\n",
    "# exponential variables (Laplace distribution)\n",
    "# with parameter 1\n",
    "\n",
    "def rlaplace(n):\n",
    "    u = np.random.rand(n)\n",
    "    x = ###\n",
    "    return x \n",
    "\n",
    "# function simulating n Gaussian random variables\n",
    "# with mean 0 and variance 1 by rejection algorithm\n",
    "\n",
    "def rgaussian(n):\n",
    "    C= ########\n",
    "    x=np.empty(n)\n",
    "\n",
    "    for i in range(n) :\n",
    "\t    y= #####\n",
    "\t    u= ######\n",
    "\t    a= ######\n",
    "\n",
    "\t    while a>sps.norm.pdf(y) :\n",
    "\t\t    y= ####\n",
    "\t\t    u= ####\n",
    "\t\t    a= ####\n",
    "\t\n",
    "\t    x[i]=y\n",
    "\n",
    "    return x\n",
    "\n",
    "# Test of the function\n",
    "n=1000\n",
    "\n",
    "y=rgaussian(n)\n",
    "x = np. linspace (-5,5,n)\n",
    "plt.plot(x,sps.norm.pdf(x),\"r\",label =\" Theory \")\n",
    "plt.hist(y,50,density=True, label = \"Data\")\n",
    "plt.legend(loc=\"best\")\n",
    "plt.show()\n"
   ]
  },
  {
   "cell_type": "markdown",
   "metadata": {},
   "source": [
    "## Simulation de la loi de Wigner\n",
    "\n",
    "La loi de Wigner (ou du demi-cercle) est la loi de support $[-2, 2]$ et de densité $f(x) = \\frac{1}{2\\pi}\\sqrt{4 - x^2}$.\n",
    "Pour simuler selon une densité $f$ à support compact $C$, le plus simple est d'utiliser une loi uniforme sur ce même compact comme densité instrumentale et de prendre $\\sup_{x\\in C}f(x)$ comme constante pour la majoration (en ignorant la constante de normalisation de l'uniforme 1/|C|).\n",
    "Ici cette constante vaut $1/\\pi$."
   ]
  },
  {
   "cell_type": "code",
   "execution_count": null,
   "metadata": {},
   "outputs": [],
   "source": [
    "n = 1000 #taille de l'échantillon\n",
    "\n",
    "# densité de Wigner\n",
    "def dwigner(x):\n",
    "    return #####\n",
    "\n"
   ]
  },
  {
   "cell_type": "markdown",
   "metadata": {},
   "source": [
    "Représentation graphique"
   ]
  },
  {
   "cell_type": "code",
   "execution_count": null,
   "metadata": {},
   "outputs": [],
   "source": [
    "x = np. linspace (-2,2,1000)\n",
    "f_x = dwigner(x)\n",
    "plt.plot(x,f_x ,\"r\",label =\" Theory \")\n",
    "plt.hist(y,density=True, label = \"Data\")\n",
    "plt.legend(loc=\"best\")\n",
    "plt.show()"
   ]
  },
  {
   "cell_type": "markdown",
   "metadata": {},
   "source": [
    "## Loi des grands nombres et théorème central limite\n",
    "### Question 1"
   ]
  },
  {
   "cell_type": "code",
   "execution_count": 23,
   "metadata": {},
   "outputs": [
    {
     "data": {
      "image/png": "[encoded data removed]",
      "text/plain": [
       "<Figure size 432x288 with 1 Axes>"
      ]
     },
     "metadata": {
      "needs_background": "light"
     },
     "output_type": "display_data"
    }
   ],
   "source": [
    "n = 1000000\n",
    "x = 1+np.arange(n)\n",
    "u = ###########\n",
    "Sn = ##############\n",
    "plt.plot(x,Sn)\n",
    "plt.show()"
   ]
  },
  {
   "cell_type": "markdown",
   "metadata": {},
   "source": [
    "### Question 2"
   ]
  },
  {
   "cell_type": "code",
   "execution_count": null,
   "metadata": {},
   "outputs": [],
   "source": [
    "n = 1000\n",
    "x = #####\n",
    "y = #####\n",
    "Sn = #####\n",
    "plt.plot(x,Sn)\n",
    "plt.show()"
   ]
  },
  {
   "cell_type": "markdown",
   "metadata": {},
   "source": [
    "### Question 3\n",
    "On a $\\mu = 0$ et $\\sigma = \\sqrt{\\mathbb{E}(X^2)} =\\frac{1}{\\sqrt{3}}$"
   ]
  },
  {
   "cell_type": "code",
   "execution_count": 26,
   "metadata": {},
   "outputs": [
    {
     "data": {
      "image/png": "[encoded data removed]",
      "text/plain": [
       "<Figure size 432x288 with 1 Axes>"
      ]
     },
     "metadata": {
      "needs_background": "light"
     },
     "output_type": "display_data"
    }
   ],
   "source": [
    "n = 10000\n",
    "m = 10000\n",
    "sigma = 1/np.sqrt(3)\n",
    "y = np.zeros(m)\n",
    "for i in range(m) : \n",
    "    y[i] = ##################\n",
    "\n",
    "x = np. linspace (-5,5,n)\n",
    "plt.plot(x,sps.norm.pdf(x),\"r\",label =\" Theory \")\n",
    "plt.hist(y,50,density=True, label = \"Data\")\n",
    "plt.legend(loc=\"best\")\n",
    "plt.show()"
   ]
  },
  {
   "cell_type": "markdown",
   "metadata": {},
   "source": [
    "## Simulation d'un mélange de gaussienne\n",
    "### Question 1\n",
    "\n",
    "On illustre ici l'application de la méthode d'inversion pour la simulation d'une loi discrète. Soit $X$ une v.a.r. de loi :\n",
    "$$\\mathbb{P}(X=x) = \\left\\{\\begin{array}{ll} 1/2 & \\text{ si }x = 1 \\\\ 1/4 & \\text{ si }x = 2 \\\\ 1/4 & \\text{ si }x = 3 \\\\ 0 & \\text{ sinon} \\end{array} \\right.$$\n",
    "On commence par calculer les valeurs non triviales prises par sa fonction de répartition, puis on transforme les variables uniformes comme suit :"
   ]
  },
  {
   "cell_type": "code",
   "execution_count": null,
   "metadata": {},
   "outputs": [],
   "source": [
    "n=1000\n",
    "p = ####\n",
    "u = ######\n",
    "print(p)\n",
    "y = ##### \n",
    "d = np.diff(np.unique(y)).min()\n",
    "left_of_first_bin = y.min() - float(d)/2\n",
    "right_of_last_bin = y.max() + float(d)/2\n",
    "plt.hist(y, np.arange(left_of_first_bin, right_of_last_bin + d, d),density = True)\n",
    "plt.show()"
   ]
  },
  {
   "cell_type": "markdown",
   "metadata": {},
   "source": [
    "### Question 2\n",
    "On peut alors s'en servir pour simuler, par exemple, selon un mélange des gaussiennes : $\\mathcal{N}(0,1)$, $\\mathcal{N}(5,1/2)$ et $\\mathcal{N}(8,4)$, chacune associée à une des modalités de $K$."
   ]
  },
  {
   "cell_type": "code",
   "execution_count": null,
   "metadata": {},
   "outputs": [],
   "source": [
    "z = ##### \n",
    "x = np. linspace (-5,15,n)\n",
    "f_x = ##### #Densite du melange\n",
    "plt.plot(x,f_x ,\"r\",label =\" Theory \")\n",
    "plt.hist(z,bins = 100,density=True, label = \"Data\")\n",
    "plt.legend(loc=\"best\")\n",
    "plt.show()"
   ]
  },
  {
   "cell_type": "markdown",
   "metadata": {},
   "source": [
    "# Echantillonnage d'importance\n",
    "\n",
    "On cherche à évaluer l'espérance d'une variable aléatoire $X$ gaussienne centrée réduite (de densité $f_X$ et de f.d.r. $F_X$) sachant qu'elle dépasse la valeur 3. La densité conditionnelle s'écrit :\n",
    "\n",
    "$$f_{X|X > 3}(x) = \\frac{f_x(x)}{1-F_X(3)}1_{]3,+\\infty[}(x)$$\n",
    "\n",
    "et on veut estimer :\n",
    "\n",
    "$$\\mathbb{E}(X|X>3) = \\int_{\\mathbb{R}} x f_{X|X > 3}(x) dx$$\n",
    "\n",
    "### Question 1\n",
    "\n",
    "Si on implémente une méthode de rejet de manière naïve --- on tire des gaussiennes centrées réduites et on ne conserve que celles effectivement supérieures à 3 pour calculer l'espérance --- les estimations varient fortement d'un tirage à l'autre (on a même parfois des `nan`, lorsque l'échantillon ne contient aucune valeur supérieure à 3)  et le taux de rejet vaut :"
   ]
  },
  {
   "cell_type": "code",
   "execution_count": null,
   "metadata": {},
   "outputs": [],
   "source": [
    "n = 1000\n",
    "X = ##### \n",
    "Econd = #####\n",
    "print(Econd)\n",
    "#####"
   ]
  },
  {
   "cell_type": "markdown",
   "metadata": {},
   "source": [
    "C'est donc peu efficace. \n",
    "\n",
    "### Question 3\n",
    "\n",
    "On va donc tirer selon une loi instrumentale qui va mieux cibler la région d'intérêt, par exemple une gaussienne d'espérance 3 et de variance 1 (de densité notée $g$) et on utilisera alors l'estimateur :\n",
    "\n",
    "$$\\frac{\\sum_{i=1}^{n}w_ih(X_i)}{\\sum_{i=1}^n w_i}$$\n",
    "\n",
    "avec les poids d'importance $w_i = \\frac{f_{X|X > 3}(X_i)}{g(X_i)}$."
   ]
  },
  {
   "cell_type": "code",
   "execution_count": null,
   "metadata": {},
   "outputs": [],
   "source": [
    "def dnormcond(x,s): ### densité conditionnelle\n",
    "    \n",
    "    return \n",
    "\n",
    "n = 1000\n",
    "\n",
    "y = #####\n",
    "\n",
    "w = #####\n",
    "\n",
    "print(####)\n",
    "\n",
    "m = #####\n",
    "\n",
    "m\n"
   ]
  },
  {
   "cell_type": "markdown",
   "metadata": {},
   "source": [
    "On peut représenter l'histogramme de l'échantillon pondéré (le poids $w_i$ est affecté à chaque simulation dans le calcul de l'histogramme) et le comparer à $f_{X|X > 3}(x)$"
   ]
  },
  {
   "cell_type": "code",
   "execution_count": null,
   "metadata": {},
   "outputs": [],
   "source": [
    "x = np.linspace(3,6,1000)\n",
    "f_x = dnormcond(x,3)\n",
    "plt.plot(x,f_x ,\"r\",label =\" Theory \")\n",
    "plt.hist(y,density=True, bins = 100, weights=w, label = \"Data\")\n",
    "plt.legend(loc=\"best\")\n",
    "plt.show()"
   ]
  },
  {
   "cell_type": "markdown",
   "metadata": {},
   "source": [
    "### Calcul numérique d'une probabilité\n",
    "La variable $1_{\\sin(X)>1/2}$ où $X \\sim \\mathcal{N}(0,1)$ est bien $\\mathcal{L}^1$ car bornée par 1 et donc la loi forte des grands nombres s'applique."
   ]
  },
  {
   "cell_type": "code",
   "execution_count": null,
   "metadata": {},
   "outputs": [],
   "source": [
    "n=100000\n",
    "np.mean(#################)"
   ]
  },
  {
   "cell_type": "markdown",
   "metadata": {},
   "source": [
    "Visualisation de la convergence"
   ]
  },
  {
   "cell_type": "code",
   "execution_count": null,
   "metadata": {},
   "outputs": [],
   "source": [
    "n=1000\n",
    "x = np.arange(n)\n",
    "Mn = np.cumsum(##########)/(1+x)\n",
    "plt.plot(x,Mn)\n",
    "plt.show()"
   ]
  }
 ],
 "metadata": {
  "kernelspec": {
   "display_name": "Python 3",
   "language": "python",
   "name": "python3"
  },
  "language_info": {
   "codemirror_mode": {
    "name": "ipython",
    "version": 3
   },
   "file_extension": ".py",
   "mimetype": "text/x-python",
   "name": "python",
   "nbconvert_exporter": "python",
   "pygments_lexer": "ipython3",
   "version": "3.10.6 (main, Nov 14 2022, 16:10:14) [GCC 11.3.0]"
  },
  "vscode": {
   "interpreter": {
    "hash": "916dbcbb3f70747c44a77c7bcd40155683ae19c65e1c03b4aa3499c5328201f1"
   }
  }
 },
 "nbformat": 4,
 "nbformat_minor": 2
}
