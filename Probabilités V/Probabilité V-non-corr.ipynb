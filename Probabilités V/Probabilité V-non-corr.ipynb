{
 "cells": [
  {
   "cell_type": "code",
   "execution_count": 1,
   "metadata": {},
   "outputs": [],
   "source": [
    "#Chargement de dépendances\n",
    "\n",
    "import numpy as np\n",
    "import matplotlib.pyplot as plt\n",
    "import scipy.stats as sps #bibliothèque proposant densités, fonctions  de répartition, quantiles, etc... de lois usuelles.\n"
   ]
  },
  {
   "cell_type": "markdown",
   "metadata": {},
   "source": [
    "Dans ce document, on commence par donner quelques exemples d'applications du cours. On se servira des trois librairies ci-dessus. On peut déjà commencer par initialiser le générateur de nombres aléatoires :"
   ]
  },
  {
   "cell_type": "code",
   "execution_count": null,
   "metadata": {},
   "outputs": [],
   "source": [
    "np.random.seed(12345)\n",
    "print(np.random.rand(100))"
   ]
  },
  {
   "cell_type": "markdown",
   "metadata": {},
   "source": [
    "# Préambule : Loi uniforme\n",
    "\n",
    "Génerons un échantillon de 50 nombres uniformes sur $]0,1[$, calculons sa moyenne, sa variance et représentons son histogramme et la densité cible :"
   ]
  },
  {
   "cell_type": "code",
   "execution_count": null,
   "metadata": {},
   "outputs": [],
   "source": [
    "u = np.random.rand(50)\n",
    "print(np.mean(u))\n",
    "print(np.var(u))\n",
    "x = np. linspace (0,1,100)\n",
    "f_x = sps.uniform.pdf(x) #Densite uniforme\n",
    "plt.plot(x,f_x ,\"r\",label =\" Theory \")\n",
    "plt.hist(u,bins = 50,density=True, label = \"Data\")\n",
    "plt.legend(loc=\"best\")\n",
    "plt.show()"
   ]
  },
  {
   "cell_type": "markdown",
   "metadata": {},
   "source": [
    "On augmente la taille de l'échantillon :"
   ]
  },
  {
   "cell_type": "code",
   "execution_count": null,
   "metadata": {},
   "outputs": [],
   "source": [
    "u = np.random.rand(500)\n",
    "print(np.mean(u))\n",
    "print(np.var(u))\n",
    "plt.plot(x,f_x ,\"r\",label =\" Theory \")\n",
    "plt.hist(u,bins = 50,density=True, label = \"Data\")\n",
    "plt.legend(loc=\"best\")\n",
    "plt.show()"
   ]
  },
  {
   "cell_type": "markdown",
   "metadata": {},
   "source": [
    "On voit que l'estimation des moments se fait plus précise à mesure que la taille de l'échantillon augmente. L'histogramme se rapproche également de la densité cible."
   ]
  },
  {
   "cell_type": "code",
   "execution_count": null,
   "metadata": {},
   "outputs": [],
   "source": [
    "u = np.random.rand(1000)\n",
    "print(np.mean(u))\n",
    "print(np.var(u))\n",
    "plt.plot(x,f_x ,\"r\",label =\" Theory \")\n",
    "plt.hist(u,bins = 50,density=True, label = \"Data\")\n",
    "plt.legend(loc=\"best\")\n",
    "plt.show()"
   ]
  },
  {
   "cell_type": "markdown",
   "metadata": {},
   "source": [
    "# Méthode d'inversion\n",
    "\n",
    "## Loi exponentielle\n",
    "\n",
    "On va transformer cet échantillon pour produire des réalisations de la loi exponentielle de paramètre $\\lambda$ par la méthode d'inversion. Soit $X$ une variable aléatoire de loi exponentielle de paramètre $\\lambda$. Sa fonction de répartition est donnée par :\n",
    "$$F_X(x) = 1 - \\exp(-\\lambda x),~~x\\in \\mathbb{R}_+$$\n",
    "Pour calculer son inverse, on résoud $u =  1 - \\exp(-\\lambda x)$. On trouve ainsi\n",
    "$$x = -\\frac{1}{\\lambda}\\log(1-u)$$\n",
    "que l'on peut simplifier en\n",
    "$$x = -\\frac{1}{\\lambda}\\log(u)$$\n",
    "puisque si $U\\sim \\mathcal{U}_{]0,1[}$, alors $1-U \\sim \\mathcal{U}_{]0,1[}$.\n",
    "\n",
    "Pour générer un échantillon de réalisations de la loi exponentielle de paramètre $\\lambda$, on applique donc cette transformation à un échantillon de réalisations de la loi uniforme sur $]0,1[$."
   ]
  },
  {
   "cell_type": "code",
   "execution_count": 13,
   "metadata": {},
   "outputs": [],
   "source": [
    "param = 1\n",
    "y = -1/param * np.log(np.random.rand(1000))"
   ]
  },
  {
   "cell_type": "markdown",
   "metadata": {},
   "source": [
    "De même, on peut réprésenter son histogramme et y superposer la densité exponentielle"
   ]
  },
  {
   "cell_type": "code",
   "execution_count": null,
   "metadata": {},
   "outputs": [],
   "source": [
    "x = np. linspace (0,10,1000)\n",
    "f_x = sps.expon.pdf(x) #Densite exponentielle\n",
    "plt.plot(x,f_x ,\"r\",label =\" Theory \")\n",
    "plt.hist(y,bins = 100,density=True, label = \"Data\")\n",
    "plt.legend(loc=\"best\")\n",
    "plt.show()"
   ]
  },
  {
   "cell_type": "markdown",
   "metadata": {},
   "source": [
    "En pratique, on utilisera plutôt les fonctions internes de numpy pour simuler des réalisations selon les lois usuelles. Voir :\n",
    "\n",
    "https://docs.scipy.org/doc/numpy-1.13.0/reference/routines.random.html"
   ]
  },
  {
   "cell_type": "code",
   "execution_count": null,
   "metadata": {},
   "outputs": [],
   "source": [
    "x = np. linspace (0,10,1000)\n",
    "f_x = sps.expon.pdf(x) #Densite exponentielle\n",
    "y = np.random.exponential(param,1000)\n",
    "plt.plot(x,f_x ,\"r\",label =\" Theory \")\n",
    "plt.hist(y,bins = 100,density=True, label = \"Data\")\n",
    "plt.legend(loc=\"best\")\n",
    "plt.show()"
   ]
  },
  {
   "cell_type": "markdown",
   "metadata": {},
   "source": [
    "## Loi uniforme dans un domaine \n",
    "### Domaine A"
   ]
  },
  {
   "cell_type": "code",
   "execution_count": null,
   "metadata": {},
   "outputs": [],
   "source": [
    "n=100\n",
    "\n",
    "def rtri(n):\n",
    "    x= np.empty([n,2])\n",
    "    i=0\n",
    "    while i < n :\n",
    "\t    u1 = ####\n",
    "\t    u2 = ####\n",
    "\t    if (######) :\n",
    "\t\t    x[i,0] = u1\n",
    "\t\t    x[i,1] = u2\n",
    "\t\t    i=i+1\n",
    "\t\n",
    "    return x\t\n",
    "\n",
    "tri = rtri(n)\n",
    "\n",
    "plt.scatter(tri[:,0],tri[:,1],)\n",
    "plt.show()"
   ]
  },
  {
   "cell_type": "markdown",
   "metadata": {},
   "source": [
    "### Domaine B"
   ]
  },
  {
   "cell_type": "code",
   "execution_count": null,
   "metadata": {},
   "outputs": [],
   "source": [
    "n=100\n",
    "def rB(n):\n",
    "    x=np.empty([n,2])\n",
    "    i=0\n",
    "    while i < n :\n",
    "\t    u1 = ####\n",
    "\t    u2 = ####\n",
    "\t    if ##### :\n",
    "\t\t    x[i,0] = u1\n",
    "\t\t    x[i,1] = u2\n",
    "\t\t    i=i+1\n",
    "\t\n",
    "    return x\t\n",
    "\n",
    "B = rB(n)\n",
    "\n",
    "plt.scatter(B[:,0],B[:,1],)\n",
    "plt.show()"
   ]
  },
  {
   "cell_type": "markdown",
   "metadata": {},
   "source": [
    "### domaine C"
   ]
  },
  {
   "cell_type": "code",
   "execution_count": null,
   "metadata": {},
   "outputs": [],
   "source": [
    "n=100\n",
    "def rC(n):\n",
    "    x=np.empty([n,2])\n",
    "    i=0\n",
    "    while i < n :\n",
    "\t    u1 = ####\n",
    "\t    u2 = ####\n",
    "\t    if ##### :\n",
    "\t\t    x[i,0] = u1\n",
    "\t\t    x[i,1] = u2\n",
    "\t\t    i=i+1\n",
    "\t\n",
    "    return x\t\n",
    "\n",
    "C = rC(n)\n",
    "\n",
    "plt.scatter(C[:,0],C[:,1],)\n",
    "plt.show()"
   ]
  },
  {
   "cell_type": "markdown",
   "metadata": {},
   "source": [
    "## Simulation selon la loi géométrique\n",
    "### Question 2"
   ]
  },
  {
   "cell_type": "code",
   "execution_count": null,
   "metadata": {},
   "outputs": [],
   "source": [
    "n=1000\n",
    "p=0.6\n",
    "q=0.4\n",
    "def rgeom(n,p):\n",
    "    x=np.empty(n)\n",
    "    for i in range(n) :\n",
    "\t    ok= False\n",
    "\t    k=0\n",
    "\t    while not ok :\n",
    "\t\t    ok= ####\n",
    "\t\t    k= ####\n",
    "\t\n",
    "\t    x[i]=k\n",
    "\n",
    "    return x\n",
    "\n",
    "y = rgeom(n,p)\n",
    "\n",
    "# Empirical (experimental) mean\n",
    "np.mean(y)\n",
    "# Expectation (theoretical mean)\n",
    "1/p\n",
    "# or equivalently\n",
    "1/(1-q)\n",
    "\t\n",
    "# Empirical variance\n",
    "np.var(y)\n",
    "# Theoretical variance\n",
    "(1-p)/p**2\n",
    "# or equivalently\n",
    "q/(1-q)**2\n",
    "\n",
    "# histogram\n",
    "d = np.diff(np.unique(y)).min()\n",
    "left_of_first_bin = y.min() - float(d)/2\n",
    "right_of_last_bin = y.max() + float(d)/2\n",
    "plt.hist(y, np.arange(left_of_first_bin, right_of_last_bin + d, d),density = True)\n",
    "plt.show()\n"
   ]
  },
  {
   "cell_type": "markdown",
   "metadata": {},
   "source": [
    "### Question 4"
   ]
  },
  {
   "cell_type": "code",
   "execution_count": null,
   "metadata": {},
   "outputs": [],
   "source": [
    "n = 1000\n",
    "lambd = ##### \n",
    "y = ##### \n",
    "# Empirical (experimental) mean\n",
    "np.mean(y)\n",
    "# Expectation (theoretical mean)\n",
    "1/p\n",
    "# or equivalently\n",
    "1/(1-q)\n",
    "\t\n",
    "# Empirical variance\n",
    "np.var(y)\n",
    "# Theoretical variance\n",
    "(1-p)/p**2\n",
    "# or equivalently\n",
    "q/(1-q)**2\n",
    "\n",
    "# histogram\n",
    "d = np.diff(np.unique(y)).min()\n",
    "left_of_first_bin = y.min() - float(d)/2\n",
    "right_of_last_bin = y.max() + float(d)/2\n",
    "plt.hist(y, np.arange(left_of_first_bin, right_of_last_bin + d, d),density = True)\n",
    "plt.show()"
   ]
  },
  {
   "cell_type": "markdown",
   "metadata": {},
   "source": [
    "## Simulation de la loi gaussienne par la méthode du rejet\n",
    "### Question 4\n",
    "On rappelle qu'une variable de loi de Laplace peut s'obtenir à partir d'une variable uniforme sur ]0,1[ de la manière suivante : \n",
    "$X = \\text{sgn}(U - 1/2)\\ln(1-2|U-1/2|)$"
   ]
  },
  {
   "cell_type": "code",
   "execution_count": null,
   "metadata": {},
   "outputs": [],
   "source": [
    "# function simulating n symmetric\n",
    "# exponential variables (Laplace distribution)\n",
    "# with parameter 1\n",
    "\n",
    "def rlaplace(n):\n",
    "    u = np.random.rand(n)\n",
    "    x = ###\n",
    "    return x \n",
    "\n",
    "# function simulating n Gaussian random variables\n",
    "# with mean 0 and variance 1 by rejection algorithm\n",
    "\n",
    "def rgaussian(n):\n",
    "    C= ########\n",
    "    x=np.empty(n)\n",
    "\n",
    "    for i in range(n) :\n",
    "\t    y= #####\n",
    "\t    u= ######\n",
    "\t    a= ######\n",
    "\n",
    "\t    while a>sps.norm.pdf(y) :\n",
    "\t\t    y= ####\n",
    "\t\t    u= ####\n",
    "\t\t    a= ####\n",
    "\t\n",
    "\t    x[i]=y\n",
    "\n",
    "    return x\n",
    "\n",
    "# Test of the function\n",
    "n=1000\n",
    "\n",
    "y=rgaussian(n)\n",
    "x = np. linspace (-5,5,n)\n",
    "plt.plot(x,sps.norm.pdf(x),\"r\",label =\" Theory \")\n",
    "plt.hist(y,50,density=True, label = \"Data\")\n",
    "plt.legend(loc=\"best\")\n",
    "plt.show()\n"
   ]
  },
  {
   "cell_type": "markdown",
   "metadata": {},
   "source": [
    "## Simulation de la loi de Wigner\n",
    "\n",
    "La loi de Wigner (ou du demi-cercle) est la loi de support $[-2, 2]$ et de densité $f(x) = \\frac{1}{2\\pi}\\sqrt{4 - x^2}$.\n",
    "Pour simuler selon une densité $f$ à support compact $C$, le plus simple est d'utiliser une loi uniforme sur ce même compact comme densité instrumentale et de prendre $\\sup_{x\\in C}f(x)$ comme constante pour la majoration (en ignorant la constante de normalisation de l'uniforme 1/|C|).\n",
    "Ici cette constante vaut $1/\\pi$."
   ]
  },
  {
   "cell_type": "code",
   "execution_count": null,
   "metadata": {},
   "outputs": [],
   "source": [
    "n = 1000 #taille de l'échantillon\n",
    "\n",
    "# densité de Wigner\n",
    "def dwigner(x):\n",
    "    return #####\n",
    "\n"
   ]
  },
  {
   "cell_type": "markdown",
   "metadata": {},
   "source": [
    "Représentation graphique"
   ]
  },
  {
   "cell_type": "code",
   "execution_count": null,
   "metadata": {},
   "outputs": [],
   "source": [
    "x = np. linspace (-2,2,1000)\n",
    "f_x = dwigner(x)\n",
    "plt.plot(x,f_x ,\"r\",label =\" Theory \")\n",
    "plt.hist(y,density=True, label = \"Data\")\n",
    "plt.legend(loc=\"best\")\n",
    "plt.show()"
   ]
  },
  {
   "cell_type": "markdown",
   "metadata": {},
   "source": [
    "## Loi des grands nombres et théorème central limite\n",
    "### Question 1"
   ]
  },
  {
   "cell_type": "code",
   "execution_count": null,
   "metadata": {},
   "outputs": [],
   "source": [
    "n = 1000000\n",
    "x = 1+np.arange(n)\n",
    "u = ###########\n",
    "Sn = ##############\n",
    "plt.plot(x,Sn)\n",
    "plt.show()"
   ]
  },
  {
   "cell_type": "markdown",
   "metadata": {},
   "source": [
    "### Question 2"
   ]
  },
  {
   "cell_type": "code",
   "execution_count": null,
   "metadata": {},
   "outputs": [],
   "source": [
    "n = 1000\n",
    "x = #####\n",
    "y = #####\n",
    "Sn = #####\n",
    "plt.plot(x,Sn)\n",
    "plt.show()"
   ]
  },
  {
   "cell_type": "markdown",
   "metadata": {},
   "source": [
    "### Question 3\n",
    "On a $\\mu = 0$ et $\\sigma = \\sqrt{\\mathbb{E}(X^2)} =\\frac{1}{\\sqrt{3}}$"
   ]
  },
  {
   "cell_type": "code",
   "execution_count": null,
   "metadata": {},
   "outputs": [],
   "source": [
    "n = 10000\n",
    "m = 10000\n",
    "sigma = 1/np.sqrt(3)\n",
    "y = np.zeros(m)\n",
    "for i in range(m) : \n",
    "    y[i] = ##################\n",
    "\n",
    "x = np. linspace (-5,5,n)\n",
    "plt.plot(x,sps.norm.pdf(x),\"r\",label =\" Theory \")\n",
    "plt.hist(y,50,density=True, label = \"Data\")\n",
    "plt.legend(loc=\"best\")\n",
    "plt.show()"
   ]
  },
  {
   "cell_type": "markdown",
   "metadata": {},
   "source": [
    "## Simulation d'un mélange de gaussienne\n",
    "### Question 1\n",
    "\n",
    "On illustre ici l'application de la méthode d'inversion pour la simulation d'une loi discrète. Soit $X$ une v.a.r. de loi :\n",
    "$$\\mathbb{P}(X=x) = \\left\\{\\begin{array}{ll} 1/2 & \\text{ si }x = 1 \\\\ 1/4 & \\text{ si }x = 2 \\\\ 1/4 & \\text{ si }x = 3 \\\\ 0 & \\text{ sinon} \\end{array} \\right.$$\n",
    "On commence par calculer les valeurs non triviales prises par sa fonction de répartition, puis on transforme les variables uniformes comme suit :"
   ]
  },
  {
   "cell_type": "code",
   "execution_count": null,
   "metadata": {},
   "outputs": [],
   "source": [
    "n=1000\n",
    "p = ####\n",
    "u = ######\n",
    "print(p)\n",
    "y = ##### \n",
    "d = np.diff(np.unique(y)).min()\n",
    "left_of_first_bin = y.min() - float(d)/2\n",
    "right_of_last_bin = y.max() + float(d)/2\n",
    "plt.hist(y, np.arange(left_of_first_bin, right_of_last_bin + d, d),density = True)\n",
    "plt.show()"
   ]
  },
  {
   "cell_type": "markdown",
   "metadata": {},
   "source": [
    "### Question 2\n",
    "On peut alors s'en servir pour simuler, par exemple, selon un mélange des gaussiennes : $\\mathcal{N}(0,1)$, $\\mathcal{N}(5,1/2)$ et $\\mathcal{N}(8,4)$, chacune associée à une des modalités de $K$."
   ]
  },
  {
   "cell_type": "code",
   "execution_count": null,
   "metadata": {},
   "outputs": [],
   "source": [
    "z = ##### \n",
    "x = np. linspace (-5,15,n)\n",
    "f_x = ##### #Densite du melange\n",
    "plt.plot(x,f_x ,\"r\",label =\" Theory \")\n",
    "plt.hist(z,bins = 100,density=True, label = \"Data\")\n",
    "plt.legend(loc=\"best\")\n",
    "plt.show()"
   ]
  },
  {
   "cell_type": "markdown",
   "metadata": {},
   "source": [
    "# Echantillonnage d'importance\n",
    "\n",
    "On cherche à évaluer l'espérance d'une variable aléatoire $X$ gaussienne centrée réduite (de densité $f_X$ et de f.d.r. $F_X$) sachant qu'elle dépasse la valeur 3. La densité conditionnelle s'écrit :\n",
    "\n",
    "$$f_{X|X > 3}(x) = \\frac{f_x(x)}{1-F_X(3)}1_{]3,+\\infty[}(x)$$\n",
    "\n",
    "et on veut estimer :\n",
    "\n",
    "$$\\mathbb{E}(X|X>3) = \\int_{\\mathbb{R}} x f_{X|X > 3}(x) dx$$\n",
    "\n",
    "### Question 1\n",
    "\n",
    "Si on implémente une méthode de rejet de manière naïve --- on tire des gaussiennes centrées réduites et on ne conserve que celles effectivement supérieures à 3 pour calculer l'espérance --- les estimations varient fortement d'un tirage à l'autre (on a même parfois des `nan`, lorsque l'échantillon ne contient aucune valeur supérieure à 3)  et le taux de rejet vaut :"
   ]
  },
  {
   "cell_type": "code",
   "execution_count": null,
   "metadata": {},
   "outputs": [],
   "source": [
    "n = 1000\n",
    "X = ##### \n",
    "Econd = #####\n",
    "print(Econd)\n",
    "#####"
   ]
  },
  {
   "cell_type": "markdown",
   "metadata": {},
   "source": [
    "C'est donc peu efficace. \n",
    "\n",
    "### Question 3\n",
    "\n",
    "On va donc tirer selon une loi instrumentale qui va mieux cibler la région d'intérêt, par exemple une gaussienne d'espérance 3 et de variance 1 (de densité notée $g$) et on utilisera alors l'estimateur :\n",
    "\n",
    "$$\\frac{\\sum_{i=1}^{n}w_ih(X_i)}{\\sum_{i=1}^n w_i}$$\n",
    "\n",
    "avec les poids d'importance $w_i = \\frac{f_{X|X > 3}(X_i)}{g(X_i)}$."
   ]
  },
  {
   "cell_type": "code",
   "execution_count": null,
   "metadata": {},
   "outputs": [],
   "source": [
    "def dnormcond(x,s): ### densité conditionnelle\n",
    "    \n",
    "    return \n",
    "\n",
    "n = 1000\n",
    "\n",
    "y = #####\n",
    "\n",
    "w = #####\n",
    "\n",
    "print(####)\n",
    "\n",
    "m = #####\n",
    "\n",
    "m\n"
   ]
  },
  {
   "cell_type": "markdown",
   "metadata": {},
   "source": [
    "On peut représenter l'histogramme de l'échantillon pondéré (le poids $w_i$ est affecté à chaque simulation dans le calcul de l'histogramme) et le comparer à $f_{X|X > 3}(x)$"
   ]
  },
  {
   "cell_type": "code",
   "execution_count": null,
   "metadata": {},
   "outputs": [],
   "source": [
    "x = np.linspace(3,6,1000)\n",
    "f_x = dnormcond(x,3)\n",
    "plt.plot(x,f_x ,\"r\",label =\" Theory \")\n",
    "plt.hist(y,density=True, bins = 100, weights=w, label = \"Data\")\n",
    "plt.legend(loc=\"best\")\n",
    "plt.show()"
   ]
  },
  {
   "cell_type": "markdown",
   "metadata": {},
   "source": [
    "### Calcul numérique d'une probabilité\n",
    "La variable $1_{\\sin(X)>1/2}$ où $X \\sim \\mathcal{N}(0,1)$ est bien $\\mathcal{L}^1$ car bornée par 1 et donc la loi forte des grands nombres s'applique."
   ]
  },
  {
   "cell_type": "code",
   "execution_count": null,
   "metadata": {},
   "outputs": [],
   "source": [
    "n=100000\n",
    "np.mean(#################)"
   ]
  },
  {
   "cell_type": "markdown",
   "metadata": {},
   "source": [
    "Visualisation de la convergence"
   ]
  },
  {
   "cell_type": "code",
   "execution_count": null,
   "metadata": {},
   "outputs": [],
   "source": [
    "n=1000\n",
    "x = np.arange(n)\n",
    "Mn = np.cumsum(##########)/(1+x)\n",
    "plt.plot(x,Mn)\n",
    "plt.show()"
   ]
  }
 ],
 "metadata": {
  "kernelspec": {
   "display_name": "Python 3",
   "language": "python",
   "name": "python3"
  },
  "language_info": {
   "codemirror_mode": {
    "name": "ipython",
    "version": 3
   },
   "file_extension": ".py",
   "mimetype": "text/x-python",
   "name": "python",
   "nbconvert_exporter": "python",
   "pygments_lexer": "ipython3",
   "version": "3.10.6 (main, Nov 14 2022, 16:10:14) [GCC 11.3.0]"
  },
  "vscode": {
   "interpreter": {
    "hash": "916dbcbb3f70747c44a77c7bcd40155683ae19c65e1c03b4aa3499c5328201f1"
   }
  }
 },
 "nbformat": 4,
 "nbformat_minor": 2
}
